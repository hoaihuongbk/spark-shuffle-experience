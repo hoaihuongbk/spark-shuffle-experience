{
 "cells": [
  {
   "cell_type": "code",
   "execution_count": 0,
   "metadata": {
    "application/vnd.databricks.v1+cell": {
     "cellMetadata": {},
     "inputWidgets": {},
     "nuid": "80e5971a-dba5-4d8d-9656-0ffd45c7c6b9",
     "showTitle": false,
     "tableResultSettingsMap": {},
     "title": ""
    }
   },
   "outputs": [],
   "source": [
    "dbutils.widgets.removeAll()\n",
    "dbutils.widgets.text(\"test_type\", \"join\", \"1. Test Type e.g join, aggregate\")"
   ]
  },
  {
   "cell_type": "code",
   "execution_count": 0,
   "metadata": {
    "application/vnd.databricks.v1+cell": {
     "cellMetadata": {},
     "inputWidgets": {},
     "nuid": "1ae83b66-b77e-467e-910a-00d7a331c136",
     "showTitle": false,
     "tableResultSettingsMap": {},
     "title": ""
    }
   },
   "outputs": [],
   "source": [
    "test_type = dbutils.widgets.get(\"test_type\")\n",
    "print(\"test_type: \", test_type)"
   ]
  },
  {
   "cell_type": "code",
   "execution_count": 0,
   "metadata": {
    "application/vnd.databricks.v1+cell": {
     "cellMetadata": {},
     "inputWidgets": {},
     "nuid": "1517a75c-d118-4be2-b736-6b43d363dc20",
     "showTitle": false,
     "tableResultSettingsMap": {},
     "title": ""
    }
   },
   "outputs": [],
   "source": [
    "def load_transactions(spark):\n",
    "    spark.read.parquet(\"dbfs:/transactions/*.parquet\").createOrReplaceTempView(\n",
    "        \"transactions\"\n",
    "    )\n",
    "\n",
    "def load_stores(spark):\n",
    "    spark.read.parquet(\"dbfs:/stores/*.parquet\").createOrReplaceTempView(\"stores\")\n",
    "\n",
    "\n",
    "def load_countries(spark):\n",
    "    spark.read.parquet(\"dbfs:/countries/*.parquet\").createOrReplaceTempView(\"countries\")"
   ]
  },
  {
   "cell_type": "markdown",
   "metadata": {
    "application/vnd.databricks.v1+cell": {
     "cellMetadata": {},
     "inputWidgets": {},
     "nuid": "047659a6-fdd2-40d5-91bd-371586f5469d",
     "showTitle": false,
     "tableResultSettingsMap": {},
     "title": ""
    }
   },
   "source": [
    "## Preparation"
   ]
  },
  {
   "cell_type": "code",
   "execution_count": 0,
   "metadata": {
    "application/vnd.databricks.v1+cell": {
     "cellMetadata": {},
     "inputWidgets": {},
     "nuid": "4f6aae5f-6bd4-419e-bc40-73bb779d66a8",
     "showTitle": false,
     "tableResultSettingsMap": {},
     "title": ""
    }
   },
   "outputs": [],
   "source": [
    "load_transactions(spark)\n",
    "load_stores(spark)\n",
    "load_countries(spark)"
   ]
  },
  {
   "cell_type": "markdown",
   "metadata": {
    "application/vnd.databricks.v1+cell": {
     "cellMetadata": {},
     "inputWidgets": {},
     "nuid": "dd432822-0a48-4965-b284-c8c38fc69a71",
     "showTitle": false,
     "tableResultSettingsMap": {},
     "title": ""
    }
   },
   "source": [
    "## Run Tests"
   ]
  },
  {
   "cell_type": "code",
   "execution_count": 0,
   "metadata": {
    "application/vnd.databricks.v1+cell": {
     "cellMetadata": {},
     "inputWidgets": {},
     "nuid": "c3190175-1cf1-4ba9-ae1e-6b0a66c16ca2",
     "showTitle": false,
     "tableResultSettingsMap": {},
     "title": ""
    }
   },
   "outputs": [],
   "source": [
    "if test_type == \"join\":\n",
    "    ## Test join w/o broadcast\n",
    "    joined_df_no_broadcast = spark.sql(\"\"\"\n",
    "        SELECT \n",
    "            transactions.id,\n",
    "            amount,\n",
    "            countries.name as country_name,\n",
    "            employees,\n",
    "            stores.name as store_name\n",
    "        FROM\n",
    "            transactions\n",
    "        LEFT JOIN\n",
    "            stores\n",
    "            ON\n",
    "                transactions.store_id = stores.id\n",
    "        LEFT JOIN\n",
    "            countries\n",
    "            ON\n",
    "                transactions.country_id = countries.id\n",
    "    \"\"\")\n",
    "    ## Create a table with the joined data\n",
    "    (\n",
    "        joined_df_no_broadcast.write.mode(\"overwrite\").parquet(\n",
    "            \"dbfs:/photon_transact_countries\"\n",
    "        )\n",
    "    )\n",
    "\n",
    "elif test_type == \"aggregate\":\n",
    "    ## Test groupBy\n",
    "    grouped_df = spark.sql(\"\"\"\n",
    "        SELECT \n",
    "            country_id, \n",
    "            COUNT(*) AS count,\n",
    "            AVG(amount) AS avg_amount\n",
    "        FROM transactions\n",
    "        GROUP BY country_id\n",
    "    \"\"\")\n",
    "\n",
    "    ## Create a table with the grouped_df data\n",
    "    (grouped_df.write.mode(\"overwrite\").parquet(\"dbfs:/photon_country_agg\"))\n"
   ]
  }
 ],
 "metadata": {
  "application/vnd.databricks.v1+notebook": {
   "computePreferences": null,
   "dashboards": [],
   "environmentMetadata": {
    "base_environment": "",
    "client": "2"
   },
   "language": "python",
   "notebookMetadata": {
    "pythonIndentUnit": 4
   },
   "notebookName": "example_test_shuffle",
   "widgets": {}
  },
  "language_info": {
   "name": "python"
  }
 },
 "nbformat": 4,
 "nbformat_minor": 0
}